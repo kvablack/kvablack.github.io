{
 "cells": [
  {
   "cell_type": "code",
   "execution_count": 1,
   "metadata": {},
   "outputs": [],
   "source": [
    "import imageio\n",
    "import mediapy\n",
    "\n",
    "names = [\n",
    "    \"out_ours_ur5_tiger\",\n",
    "    \"out_cmu\",\n",
    "    \"out_iliad\",\n",
    "    \"out_ours_ur5_cloth\",\n",
    "    \"out_fmb\",\n",
    "    \"out_bridge\",\n",
    "    \"out_rpt\",\n",
    "    \"out_aloha\",\n",
    "    \"out_google\",\n",
    "]\n",
    "\n",
    "videos = []\n",
    "for name in names:\n",
    "    path = f\"../../octo-models.github.io/static/videos/{name}.mp4\"\n",
    "    video = imageio.mimread(path, memtest=False)\n",
    "    videos.append(video)\n",
    "\n",
    "# mediapy.show_video(videos[0])"
   ]
  },
  {
   "cell_type": "code",
   "execution_count": 2,
   "metadata": {},
   "outputs": [
    {
     "name": "stderr",
     "output_type": "stream",
     "text": [
      "IMAGEIO FFMPEG_WRITER WARNING: input image is not divisible by macro_block_size=16, resizing from (1920, 1080) to (1920, 1088) to ensure video compatibility with most codecs and players. To prevent resizing, make your input image divisible by the macro_block_size or set the macro_block_size to 1 (risking incompatibility).\n"
     ]
    }
   ],
   "source": [
    "import numpy as np\n",
    "\n",
    "max_len = max([len(video) for video in videos])\n",
    "out = []\n",
    "for video in videos:\n",
    "    arr = np.array(video)\n",
    "    # center crop\n",
    "    # h, w = arr.shape[1:3]\n",
    "    # crop_size = min(h, w)\n",
    "    # start_h = (h - crop_size) // 2\n",
    "    # start_w = (w - crop_size) // 2\n",
    "    # arr = arr[:, start_h:start_h+crop_size, start_w:start_w+crop_size]\n",
    "    # pad to max_len by looping\n",
    "    if len(arr) < max_len:\n",
    "        num_repeats = max_len // len(arr) + 1\n",
    "        arr = np.tile(arr, (num_repeats, 1, 1, 1))[:max_len]\n",
    "    out.append(arr)\n",
    "\n",
    "out = np.array(out).reshape(3, 3, max_len, *out[0].shape[1:])\n",
    "out = np.concatenate(np.concatenate(out, axis=2), axis=2)\n",
    "imageio.mimwrite(\"out.mp4\", out, fps=60)"
   ]
  },
  {
   "cell_type": "code",
   "execution_count": 7,
   "metadata": {},
   "outputs": [],
   "source": [
    "import imageio\n",
    "\n",
    "names = [\n",
    "    \"bridge_data_v1_berkeley_toysink1_room8052_flip_pot_upright_which_is_in_sink\",\n",
    "    # \"bridge_data_v1_berkeley_toykitchen1_put_banana_on_plate\",\n",
    "    \"bridge_data_v2_datacol2_folding_table_fold_cloth_pnp_01\",\n",
    "    \"icra_toykitchen_fixed_cam_resetfree_push_sweep_toykitchen6_00\",\n",
    "    \"bridge_data_v1_berkeley_toykitchen5_close_cabinet\",\n",
    "    \"bridge_data_v1_berkeley_toykitchen2_room8052_turn_lever_vertical_to_front\",\n",
    "    \"bridge_data_v1_berkeley_toykitchen2_room8052_flip_salt_upright\",\n",
    "    \"bridge_data_v2_datacol2_toykitchen7_sweep_granular_00\",\n",
    "    \"bridge_data_v2_datacol2_toykitchen7_drawer_pnp_01\",\n",
    "    \"bridge_data_v2_deepthought_folding_table_stack_blocks_01\",\n",
    "]\n",
    "\n",
    "videos = []\n",
    "for name in names:\n",
    "    path = f\"../../bridgedata/teaser_videos/{name}.mp4\"\n",
    "    video = imageio.mimread(path, memtest=False)\n",
    "    videos.append(video)\n",
    "\n",
    "import numpy as np\n",
    "\n",
    "max_len = max([len(video) for video in videos])\n",
    "out = []\n",
    "for video in videos:\n",
    "    arr = np.array(video)\n",
    "    # center crop\n",
    "    # h, w = arr.shape[1:3]\n",
    "    # crop_size = min(h, w)\n",
    "    # start_h = (h - crop_size) // 2\n",
    "    # start_w = (w - crop_size) // 2\n",
    "    # arr = arr[:, start_h:start_h+crop_size, start_w:start_w+crop_size]\n",
    "    # pad to max_len by looping\n",
    "    if len(arr) < max_len:\n",
    "        num_repeats = max_len // len(arr) + 1\n",
    "        arr = np.tile(arr, (num_repeats, 1, 1, 1))[:max_len]\n",
    "    out.append(arr)\n",
    "\n",
    "out = np.array(out).reshape(3, 3, max_len, *out[0].shape[1:])\n",
    "out = np.concatenate(np.concatenate(out, axis=2), axis=2)\n",
    "imageio.mimwrite(\"out.mp4\", out, fps=15)"
   ]
  },
  {
   "cell_type": "code",
   "execution_count": 17,
   "metadata": {},
   "outputs": [],
   "source": [
    "import imageio\n",
    "\n",
    "susie1 = imageio.mimread(\"susie1.mp4\", memtest=False)\n",
    "susie2 = imageio.mimread(\"susie2.mp4\", memtest=False)\n",
    "\n",
    "min_len = min(len(susie1), len(susie2))\n",
    "susie1 = susie1[:min_len]\n",
    "susie2 = susie2[:min_len]\n",
    "\n",
    "out = np.array([susie1, susie2]).reshape(2, min_len, *susie1[0].shape)\n",
    "out = np.concatenate(out, axis=2)\n",
    "imageio.mimwrite(\"out.mp4\", out, fps=30)"
   ]
  }
 ],
 "metadata": {
  "kernelspec": {
   "display_name": "Python 3",
   "language": "python",
   "name": "python3"
  },
  "language_info": {
   "codemirror_mode": {
    "name": "ipython",
    "version": 3
   },
   "file_extension": ".py",
   "mimetype": "text/x-python",
   "name": "python",
   "nbconvert_exporter": "python",
   "pygments_lexer": "ipython3",
   "version": "3.9.6"
  }
 },
 "nbformat": 4,
 "nbformat_minor": 2
}
